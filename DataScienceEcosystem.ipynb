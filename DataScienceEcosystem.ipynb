{
  "nbformat": 4,
  "nbformat_minor": 0,
  "metadata": {
    "colab": {
      "provenance": []
    },
    "kernelspec": {
      "name": "python3",
      "display_name": "Python 3"
    },
    "language_info": {
      "name": "python"
    }
  },
  "cells": [
    {
      "cell_type": "markdown",
      "source": [
        "# **Data Science Tools and Ecosystem**"
      ],
      "metadata": {
        "id": "EHT0cRUHNT_7"
      }
    },
    {
      "cell_type": "markdown",
      "source": [
        "In this notebook, Data Science Tools and Ecosystem are summarized."
      ],
      "metadata": {
        "id": "ptPJsStPOPBX"
      }
    },
    {
      "cell_type": "markdown",
      "source": [
        "**Objectives:**\n",
        "- List popular languages for Data Science\n",
        "- List commonly used libraries by Data Scientists\n",
        "- Create tables showing common tools used in Data Science\n",
        "- Demonstrate basic arithmetic expressions in Python\n",
        "- Convert minutes to hours using a simple calculation"
      ],
      "metadata": {
        "id": "EDPrmVVkTlQ3"
      }
    },
    {
      "cell_type": "markdown",
      "source": [
        "### Some of the popular languages that Data Scientists use are:\n",
        "\n",
        "\n",
        "*   Python\n",
        "*   R\n",
        "\n",
        "\n",
        "*   Java\n",
        "*   SQL\n",
        "\n",
        "\n",
        "  \n",
        "\n"
      ],
      "metadata": {
        "id": "ePaaJ705OlRP"
      }
    },
    {
      "cell_type": "markdown",
      "source": [
        "Some of the commonly used libraries used by Data Scientists include:\n",
        "1. Pandas\n",
        "2. NumPy\n",
        "3. Matplotlib\n",
        "4. Scikit-learn\n",
        "5. TensorFlow\n"
      ],
      "metadata": {
        "id": "dKqbyntrQENV"
      }
    },
    {
      "cell_type": "markdown",
      "source": [
        "Some of the commonly used libraries used by Data Scientists include:\n",
        "| Data Science Tools |\n",
        "|---------------------|\n",
        "| Jupyter Notebook |\n",
        "| RStudio |\n",
        "| Apache Zeppelin |"
      ],
      "metadata": {
        "id": "tR8o351nRQYu"
      }
    },
    {
      "cell_type": "markdown",
      "source": [
        "### Below are a few examples of evaluating arithmetic expressions in Python."
      ],
      "metadata": {
        "id": "Xivxz-YASALo"
      }
    },
    {
      "cell_type": "code",
      "execution_count": 1,
      "metadata": {
        "colab": {
          "base_uri": "https://localhost:8080/"
        },
        "id": "FuFYB4jtNAmp",
        "outputId": "dc6e9a61-5c16-4ff5-d377-9b987b930b56"
      },
      "outputs": [
        {
          "output_type": "execute_result",
          "data": {
            "text/plain": [
              "17"
            ]
          },
          "metadata": {},
          "execution_count": 1
        }
      ],
      "source": [
        "(3 * 4) + 5"
      ]
    },
    {
      "cell_type": "code",
      "source": [
        "200 / 60"
      ],
      "metadata": {
        "colab": {
          "base_uri": "https://localhost:8080/"
        },
        "id": "YPf_1CpSSMTA",
        "outputId": "f3dfb272-7808-46ec-8c22-1239dd1c7517"
      },
      "execution_count": 2,
      "outputs": [
        {
          "output_type": "execute_result",
          "data": {
            "text/plain": [
              "3.3333333333333335"
            ]
          },
          "metadata": {},
          "execution_count": 2
        }
      ]
    },
    {
      "cell_type": "markdown",
      "source": [
        "## Author\n",
        "-Omar Diaa"
      ],
      "metadata": {
        "id": "0_OPSnn_T5hv"
      }
    },
    {
      "cell_type": "code",
      "source": [],
      "metadata": {
        "id": "Fu1e-iGBS2YI"
      },
      "execution_count": null,
      "outputs": []
    }
  ]
}